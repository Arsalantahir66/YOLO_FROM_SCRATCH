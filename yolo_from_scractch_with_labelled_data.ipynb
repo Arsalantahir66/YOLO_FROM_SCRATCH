{
  "nbformat": 4,
  "nbformat_minor": 0,
  "metadata": {
    "colab": {
      "provenance": [],
      "gpuType": "T4"
    },
    "kernelspec": {
      "name": "python3",
      "display_name": "Python 3"
    },
    "language_info": {
      "name": "python"
    },
    "accelerator": "GPU"
  },
  "cells": [
    {
      "cell_type": "code",
      "source": [
        "from google.colab import drive\n",
        "drive.mount('/content/drive')"
      ],
      "metadata": {
        "colab": {
          "base_uri": "https://localhost:8080/"
        },
        "id": "fe08iaywnD1C",
        "outputId": "6ff1ccb5-259b-46e1-a79a-3ffff74e1099"
      },
      "execution_count": 1,
      "outputs": [
        {
          "output_type": "stream",
          "name": "stdout",
          "text": [
            "Mounted at /content/drive\n"
          ]
        }
      ]
    },
    {
      "cell_type": "code",
      "source": [
        "%cd /content/drive/MyDrive/train_data"
      ],
      "metadata": {
        "colab": {
          "base_uri": "https://localhost:8080/"
        },
        "id": "lGptlc8Q-5UD",
        "outputId": "def94b67-9214-4f8b-8d70-0e2f015f0f1c"
      },
      "execution_count": 2,
      "outputs": [
        {
          "output_type": "stream",
          "name": "stdout",
          "text": [
            "/content/drive/MyDrive/train_data\n"
          ]
        }
      ]
    },
    {
      "cell_type": "markdown",
      "source": [
        "# Directory Structure\n",
        "\n",
        "📂 images\n",
        "\n",
        "├── 🖼️ images1.jpg\n",
        "\n",
        "├── 🖼️ images2.jpg\n",
        "\n",
        "📂 labels\n",
        "\n",
        "├── 📄 image1.txt\n",
        "\n",
        "├── 📄 image2.txt"
      ],
      "metadata": {
        "id": "nHTNgG9W48vz"
      }
    },
    {
      "cell_type": "markdown",
      "source": [
        "### Import Libraries\n"
      ],
      "metadata": {
        "id": "VfcNVTT0KklT"
      }
    },
    {
      "cell_type": "code",
      "source": [
        "import os\n",
        "import numpy as np\n",
        "from PIL import Image\n",
        "import torch\n",
        "import torch.nn as nn\n",
        "import torch.nn.functional as F\n",
        "import torch.optim as optim\n",
        "import torchvision.transforms as transforms\n",
        "from torch.utils.data import Dataset, DataLoader\n",
        "import cv2\n",
        "import matplotlib.pyplot as plt\n"
      ],
      "metadata": {
        "id": "XXBL9qJ0PfJh"
      },
      "execution_count": 22,
      "outputs": []
    },
    {
      "cell_type": "markdown",
      "source": [
        "##Define the Custom Dataset for Multi‑Box Data\n",
        "\n",
        "\n",
        "Each image’s labels are read from its corresponding text file. If an image has multiple objects, all boxes are returned."
      ],
      "metadata": {
        "id": "3V6oXWjx4Zjz"
      }
    },
    {
      "cell_type": "code",
      "source": [
        "class CustomYOLODataset(Dataset):\n",
        "    def __init__(self, img_folder, label_folder, transform=None):\n",
        "        self.img_folder = img_folder\n",
        "        self.label_folder = label_folder\n",
        "        self.transform = transform\n",
        "        self.image_filenames = sorted(os.listdir(img_folder))\n",
        "\n",
        "    def __len__(self):\n",
        "        return len(self.image_filenames)\n",
        "\n",
        "    def __getitem__(self, idx):\n",
        "        img_name = self.image_filenames[idx]\n",
        "        img_path = os.path.join(self.img_folder, img_name)\n",
        "        image = Image.open(img_path).convert(\"RGB\")\n",
        "\n",
        "        label_path = os.path.join(self.label_folder, img_name.replace(\".jpg\", \".txt\"))\n",
        "        boxes = []\n",
        "        # For one-class data we ignore the class value (assume always 0)\n",
        "        if os.path.exists(label_path):\n",
        "            with open(label_path, \"r\") as f:\n",
        "                lines = f.readlines()\n",
        "                for line in lines:\n",
        "                    parts = line.strip().split()\n",
        "                    # Expected format: 0 x_center y_center width height\n",
        "                    if len(parts) == 5:\n",
        "                        # Append the coordinates (ignore the first value)\n",
        "                        boxes.append(np.array(parts[1:], dtype=np.float32))\n",
        "        # If no boxes found, create a dummy box\n",
        "        if len(boxes) == 0:\n",
        "            boxes = [np.zeros(4, dtype=np.float32)]\n",
        "\n",
        "        if self.transform:\n",
        "            image = self.transform(image)\n",
        "\n",
        "        # Return image tensor and boxes as a NumPy array of shape [N, 4]\n",
        "        return image, np.array(boxes)\n"
      ],
      "metadata": {
        "id": "b24uasSYSr8U"
      },
      "execution_count": 23,
      "outputs": []
    },
    {
      "cell_type": "markdown",
      "source": [
        "##Convert Ground Truth Boxes to a Grid Target\n",
        "We use a grid of size S×S (S = 7) and assign an object to a cell if its center falls into that cell. For simplicity, we assign the object to the first box slot."
      ],
      "metadata": {
        "id": "nDAjsInO4g6U"
      }
    },
    {
      "cell_type": "code",
      "source": [
        "# Global parameters\n",
        "S = 7           # Grid size\n",
        "B = 2           # Number of boxes per cell\n",
        "# Since we have one class and no class probabilities, each box predicts 5 numbers.\n",
        "final_output_dim = B * 5  # 2 * 5 = 10\n",
        "\n",
        "def convert_targets(boxes, S=S, B=B):\n",
        "    # Create an empty target of shape [S, S, final_output_dim]\n",
        "    target = np.zeros((S, S, final_output_dim), dtype=np.float32)\n",
        "    cell_size = 1.0 / S\n",
        "    for box in boxes:\n",
        "        x, y, w, h = box  # all normalized [0,1]\n",
        "        col = int(x / cell_size)\n",
        "        row = int(y / cell_size)\n",
        "        if row >= S: row = S - 1\n",
        "        if col >= S: col = S - 1\n",
        "        # Relative center coordinates within the cell\n",
        "        cell_x = (x - col * cell_size) / cell_size\n",
        "        cell_y = (y - row * cell_size) / cell_size\n",
        "        # If the first box slot is empty (confidence==0), assign the object here.\n",
        "        if target[row, col, 4] == 0:\n",
        "            target[row, col, 0:5] = [cell_x, cell_y, w, h, 1.0]\n",
        "        # (For multiple objects in the same cell, one could assign the second slot.)\n",
        "    return target\n"
      ],
      "metadata": {
        "id": "rzjYw5n1St0q"
      },
      "execution_count": 24,
      "outputs": []
    },
    {
      "cell_type": "markdown",
      "source": [
        "##Define a Custom Collate Function\n",
        "This function creates the grid target for each sample and converts it to a torch tensor."
      ],
      "metadata": {
        "id": "SmFm_Ce64kgL"
      }
    },
    {
      "cell_type": "code",
      "source": [
        "def custom_collate_fn_multi(batch):\n",
        "    images = []\n",
        "    targets = []\n",
        "    for image, boxes in batch:\n",
        "        images.append(image)\n",
        "        t = convert_targets(boxes, S=S, B=B)\n",
        "        targets.append(torch.from_numpy(t))\n",
        "    images = torch.stack(images, 0)\n",
        "    targets = torch.stack(targets, 0)\n",
        "    return images, targets\n"
      ],
      "metadata": {
        "id": "-fHVwyMbSwYc"
      },
      "execution_count": 25,
      "outputs": []
    },
    {
      "cell_type": "markdown",
      "source": [
        "## Define the YOLO‑Style Model\n",
        "A simple CNN backbone that outputs predictions on a grid. Input images are resized to 128×128."
      ],
      "metadata": {
        "id": "9h19d5wR4ng3"
      }
    },
    {
      "cell_type": "code",
      "source": [
        "class YOLOMulti(nn.Module):\n",
        "    def __init__(self):\n",
        "        super(YOLOMulti, self).__init__()\n",
        "        self.conv1 = nn.Conv2d(3, 16, kernel_size=3, padding=1)\n",
        "        self.pool = nn.MaxPool2d(2, 2)  # halves dimensions\n",
        "        self.conv2 = nn.Conv2d(16, 32, kernel_size=3, padding=1)\n",
        "        self.conv3 = nn.Conv2d(32, 64, kernel_size=3, padding=1)\n",
        "        # For 128x128 input: after three poolings, spatial size becomes 16x16.\n",
        "        self.fc1 = nn.Linear(64 * 16 * 16, 1024)\n",
        "        self.fc2 = nn.Linear(1024, S * S * final_output_dim)\n",
        "\n",
        "    def forward(self, x):\n",
        "        x = self.pool(F.relu(self.conv1(x)))  # 128 -> 64\n",
        "        x = self.pool(F.relu(self.conv2(x)))  # 64 -> 32\n",
        "        x = self.pool(F.relu(self.conv3(x)))  # 32 -> 16\n",
        "        x = x.view(x.size(0), -1)\n",
        "        x = F.relu(self.fc1(x))\n",
        "        x = self.fc2(x)\n",
        "        x = x.view(-1, S, S, final_output_dim)\n",
        "        # Use sigmoid so that outputs are in [0,1]\n",
        "        x = torch.sigmoid(x)\n",
        "        return x\n",
        "\n",
        "model = YOLOMulti()\n"
      ],
      "metadata": {
        "id": "rv3zfAb_Sys4"
      },
      "execution_count": 26,
      "outputs": []
    },
    {
      "cell_type": "markdown",
      "source": [
        "##Define the Loss Function\n",
        "This loss function reshapes predictions and targets to [batch, S, S, B, 5] and then computes coordinate and confidence losses. We call .contiguous() before reshaping"
      ],
      "metadata": {
        "id": "o2XqAMMf4rbe"
      }
    },
    {
      "cell_type": "code",
      "source": [
        "def yolo_loss(pred, target, lambda_coord=5, lambda_noobj=0.5):\n",
        "    batch_size = pred.size(0)\n",
        "    # Ensure pred and target are contiguous and have the expected shape: [batch, S, S, B, 5]\n",
        "    pred = pred.contiguous().view(batch_size, S, S, B, 5)\n",
        "    target = target.contiguous().view(batch_size, S, S, B, 5)\n",
        "\n",
        "    # Now both pred and target should have shape [batch, 7, 7, 2, 5]\n",
        "    # Create object masks based on target confidence\n",
        "    obj_mask = (target[..., 4] > 0).float()  # shape: [batch, S, S, B]\n",
        "    noobj_mask = 1 - obj_mask\n",
        "\n",
        "    # Coordinate loss (for x, y, w, h) only where objects exist\n",
        "    coord_loss = lambda_coord * torch.sum(obj_mask.unsqueeze(-1) * ((pred[..., 0:4] - target[..., 0:4]) ** 2))\n",
        "    # Confidence loss for cells with objects\n",
        "    conf_loss_obj = torch.sum(obj_mask * ((pred[..., 4] - target[..., 4]) ** 2))\n",
        "    # Confidence loss for cells without objects\n",
        "    conf_loss_noobj = lambda_noobj * torch.sum(noobj_mask * ((pred[..., 4]) ** 2))\n",
        "\n",
        "    loss = coord_loss + conf_loss_obj + conf_loss_noobj\n",
        "    return loss\n",
        "\n"
      ],
      "metadata": {
        "id": "AME5swVLS1iq"
      },
      "execution_count": 27,
      "outputs": []
    },
    {
      "cell_type": "markdown",
      "source": [
        "##Set Up DataLoader and the Training Loop\n",
        "Make sure to adjust the folder paths if needed."
      ],
      "metadata": {
        "id": "BEo3Yzr-4wQb"
      }
    },
    {
      "cell_type": "code",
      "source": [
        "transform = transforms.Compose([\n",
        "    transforms.Resize((128, 128)),\n",
        "    transforms.ToTensor()\n",
        "])\n",
        "\n",
        "img_folder = \"images\"    # Adjust if needed\n",
        "label_folder = \"labels\"    # Adjust if needed\n",
        "\n",
        "dataset = CustomYOLODataset(img_folder, label_folder, transform=transform)\n",
        "dataloader = DataLoader(dataset, batch_size=8, shuffle=True, collate_fn=custom_collate_fn_multi)\n",
        "\n",
        "optimizer = optim.Adam(model.parameters(), lr=0.001)\n",
        "epochs = 30\n",
        "\n",
        "for epoch in range(epochs):\n",
        "    running_loss = 0.0\n",
        "    for images, targets in dataloader:\n",
        "        optimizer.zero_grad()\n",
        "        pred = model(images)\n",
        "        loss = yolo_loss(pred, targets)\n",
        "        loss.backward()\n",
        "        optimizer.step()\n",
        "        running_loss += loss.item()\n",
        "    print(f\"Epoch {epoch+1}/{epochs}, Loss: {running_loss/len(dataloader):.4f}\")\n"
      ],
      "metadata": {
        "colab": {
          "base_uri": "https://localhost:8080/"
        },
        "id": "Ff-6n6oRS6D1",
        "outputId": "71d96b5b-fe06-4daf-822b-1558f94e003d"
      },
      "execution_count": 28,
      "outputs": [
        {
          "output_type": "stream",
          "name": "stdout",
          "text": [
            "Epoch 1/30, Loss: 32.9036\n",
            "Epoch 2/30, Loss: 17.3146\n",
            "Epoch 3/30, Loss: 14.0497\n",
            "Epoch 4/30, Loss: 11.1051\n",
            "Epoch 5/30, Loss: 8.9840\n",
            "Epoch 6/30, Loss: 8.4615\n",
            "Epoch 7/30, Loss: 6.9283\n",
            "Epoch 8/30, Loss: 5.8633\n",
            "Epoch 9/30, Loss: 4.4117\n",
            "Epoch 10/30, Loss: 3.9774\n",
            "Epoch 11/30, Loss: 3.3297\n",
            "Epoch 12/30, Loss: 2.8767\n",
            "Epoch 13/30, Loss: 2.6083\n",
            "Epoch 14/30, Loss: 2.6277\n",
            "Epoch 15/30, Loss: 2.4697\n",
            "Epoch 16/30, Loss: 2.4731\n",
            "Epoch 17/30, Loss: 1.8468\n",
            "Epoch 18/30, Loss: 1.6828\n",
            "Epoch 19/30, Loss: 1.5518\n",
            "Epoch 20/30, Loss: 1.2040\n",
            "Epoch 21/30, Loss: 1.0391\n",
            "Epoch 22/30, Loss: 0.8974\n",
            "Epoch 23/30, Loss: 0.7776\n",
            "Epoch 24/30, Loss: 0.6908\n",
            "Epoch 25/30, Loss: 0.6237\n",
            "Epoch 26/30, Loss: 0.6297\n",
            "Epoch 27/30, Loss: 0.5547\n",
            "Epoch 28/30, Loss: 0.4586\n",
            "Epoch 29/30, Loss: 0.4658\n",
            "Epoch 30/30, Loss: 0.4622\n"
          ]
        }
      ]
    },
    {
      "cell_type": "markdown",
      "source": [
        "##Save the Trained Model"
      ],
      "metadata": {
        "id": "4Ew2g3cr4yVs"
      }
    },
    {
      "cell_type": "code",
      "source": [
        "torch.save(model.state_dict(), \"yolo_multi_one_class.pth\")\n",
        "print(\"Model saved successfully!\")"
      ],
      "metadata": {
        "id": "LGlJPTBG42uL"
      },
      "execution_count": null,
      "outputs": []
    },
    {
      "cell_type": "markdown",
      "source": [
        "##Define Functions for Prediction Extraction & Visualization\n",
        "These functions extract predicted boxes from the model’s grid output and draw them on the image."
      ],
      "metadata": {
        "id": "yjackvw-44h4"
      }
    },
    {
      "cell_type": "code",
      "source": [
        "# Update extraction function to return boxes, class_ids, and confidences.\n",
        "def extract_boxes_from_output(output, conf_threshold=0.2):\n",
        "    boxes = []\n",
        "    class_ids = []\n",
        "    confidences = []\n",
        "    cell_size = 1.0 / S\n",
        "    # Reshape output to [S, S, B, 5]\n",
        "    output = output.reshape(S, S, B, 5)\n",
        "    for i in range(S):\n",
        "        for j in range(S):\n",
        "            for b in range(B):\n",
        "                cell_pred = output[i, j, b]\n",
        "                conf = cell_pred[4]\n",
        "                if conf > conf_threshold:\n",
        "                    cell_x, cell_y, w, h = cell_pred[:4]\n",
        "                    # Convert cell-relative coordinates to normalized image coordinates\n",
        "                    x_abs = (j + cell_x) * cell_size\n",
        "                    y_abs = (i + cell_y) * cell_size\n",
        "                    boxes.append([x_abs, y_abs, w, h])\n",
        "                    # For one-class data, assign class id 0 for each box.\n",
        "                    class_ids.append(0)\n",
        "                    confidences.append(conf)\n",
        "    return boxes, class_ids, confidences\n",
        "\n",
        "# Update drawing function to include the class name and confidence on each bounding box.\n",
        "def draw_bounding_boxes(image, boxes, class_ids, confidences, class_names, color=(0, 255, 0)):\n",
        "    image = np.ascontiguousarray(image)\n",
        "    height, width = image.shape[:2]\n",
        "    for bbox, cls, conf in zip(boxes, class_ids, confidences):\n",
        "        x, y, w, h = bbox\n",
        "        x1 = int((x - w/2) * width)\n",
        "        y1 = int((y - h/2) * height)\n",
        "        x2 = int((x + w/2) * width)\n",
        "        y2 = int((y + h/2) * height)\n",
        "        cv2.rectangle(image, (x1, y1), (x2, y2), color, 1)\n",
        "        # Lookup class name (default to \"object\" if not found)\n",
        "        label = class_names.get(cls, \"object\")\n",
        "        # Append confidence to the label, formatted to 2 decimal places.\n",
        "        label_text = f\"{label} {conf:.2f}\"\n",
        "        cv2.putText(image, label_text, (x1-6, y1-2),\n",
        "                    cv2.FONT_HERSHEY_SIMPLEX, 0.27, (0,0,255), 1)\n",
        "    return image\n",
        "\n",
        "\n",
        "# Example usage for visualization:\n",
        "\n",
        "# Define a mapping for class names\n",
        "class_names = {0: \"object\"}\n",
        "sample_image, gt_boxes = dataset[20]\n",
        "# Assume 'sample_image' is a tensor from your dataset and model has been run on it.\n",
        "# Convert sample image to NumPy array for visualization:\n",
        "sample_image_np = np.transpose(sample_image.numpy(), (1, 2, 0))\n",
        "sample_image_np = (sample_image_np * 255).astype(np.uint8)\n",
        "\n",
        "# Run model on sample image (add batch dimension if needed)\n",
        "sample_input = sample_image.unsqueeze(0)\n",
        "model.eval()\n",
        "with torch.no_grad():\n",
        "    pred = model(sample_input)\n",
        "pred = pred[0].cpu().numpy()  # Shape: [S, S, final_output_dim]\n",
        "\n",
        "# Extract predicted boxes and class IDs:\n",
        "# Extract predicted boxes, class IDs, and confidences:\n",
        "predicted_boxes, predicted_class_ids, predicted_confidences = extract_boxes_from_output(pred, conf_threshold=0.2)\n",
        "\n",
        "# Draw boxes with class names and confidence scores on the image:\n",
        "result_img = draw_bounding_boxes(sample_image_np.copy(), predicted_boxes, predicted_class_ids, predicted_confidences, class_names)\n",
        "import matplotlib.pyplot as plt\n",
        "plt.figure(figsize=(8, 8))\n",
        "plt.imshow(result_img)\n",
        "plt.title(\"Predicted Boxes with Class Labels\")\n",
        "plt.axis(\"off\")\n",
        "plt.show()\n"
      ],
      "metadata": {
        "colab": {
          "base_uri": "https://localhost:8080/",
          "height": 675
        },
        "id": "I7zQ8i-zWeM9",
        "outputId": "eca04c4d-f258-4ce7-9c63-736af0645792"
      },
      "execution_count": 62,
      "outputs": [
        {
          "output_type": "display_data",
          "data": {
            "text/plain": [
              "<Figure size 800x800 with 1 Axes>"
            ],
            "image/png": "[encoded data removed]"
          },
          "metadata": {}
        }
      ]
    }
  ]
}